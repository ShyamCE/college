{
 "cells": [
  {
   "cell_type": "markdown",
   "source": "#1_NB_Classifier_Weather    Naive Bayes",
   "metadata": {
    "tags": [],
    "is_collapsed": false,
    "cell_id": "00000-ca4d8dfd-8647-4d46-aabb-03a62ebc09e2",
    "deepnote_cell_type": "text-cell-h3"
   }
  },
  {
   "cell_type": "code",
   "metadata": {
    "tags": [],
    "cell_id": "00000-c32e1b44-fbbd-45a2-846c-382e03221045",
    "deepnote_to_be_reexecuted": false,
    "source_hash": "f59dc33b",
    "execution_start": 1640247611266,
    "execution_millis": 935,
    "deepnote_cell_type": "code"
   },
   "source": "from sklearn import preprocessing\nfrom sklearn.naive_bayes import GaussianNB, MultinomialNB",
   "execution_count": 1,
   "outputs": []
  },
  {
   "cell_type": "code",
   "source": "weather = ['Sunny', 'Sunny', 'Overcast', 'Rainy', 'Rainy','Rainy', 'Overcast',\n'Sunny', 'Sunny', 'Rainy', 'Sunny', 'Overcast', 'Overcast', 'Rainy']\n\ntemp = ['Hot','Hot','Hot','Mild','Cool','Cool','Cool','Mild',\n'Cool','Mild','Mild','Mild','Hot','Mild']\n\nplay=['No','No','Yes','Yes','Yes','No','Yes','No','Yes',\n'Yes','Yes','Yes','Yes','No']",
   "metadata": {
    "tags": [],
    "cell_id": "00001-9889cd53-554a-4136-8f2e-5aa67620aae7",
    "deepnote_to_be_reexecuted": false,
    "source_hash": "7398ce92",
    "execution_start": 1640247798862,
    "execution_millis": 1,
    "deepnote_cell_type": "code"
   },
   "outputs": [],
   "execution_count": 2
  },
  {
   "cell_type": "code",
   "source": "#creating labelEncoder\nle = preprocessing.LabelEncoder()\n\n# Converting string labels into numbers.\nweather_encoded=le.fit_transform(weather)\ntemp_encoded = le.fit_transform(temp)\nplay_encoded = le.fit_transform(play)\n\n\nprint(\"Weather:\" ,weather_encoded)\nprint(\"Temp :  \",temp_encoded)\nprint(\"Play :  \",play_encoded)",
   "metadata": {
    "tags": [],
    "cell_id": "00002-ca92128c-272d-48b2-a1d7-9c16907c8432",
    "deepnote_to_be_reexecuted": false,
    "source_hash": "2cf3ecd7",
    "execution_start": 1640250076193,
    "execution_millis": 55,
    "deepnote_cell_type": "code"
   },
   "outputs": [
    {
     "name": "stdout",
     "text": "Weather: [2 2 0 1 1 1 0 2 2 1 2 0 0 1]\nTemp :   [1 1 1 2 0 0 0 2 0 2 2 2 1 2]\nPlay :   [0 0 1 1 1 0 1 0 1 1 1 1 1 0]\n",
     "output_type": "stream",
     "data": {}
    }
   ],
   "execution_count": 38
  },
  {
   "cell_type": "code",
   "source": "#Combinig weather and temp into single listof tuples\nfeatures=tuple(zip(weather_encoded,temp_encoded))\n#features=tuple(zip(weather,temp))\n\nprint(\"Features:\",features)",
   "metadata": {
    "tags": [],
    "cell_id": "00003-b946f70b-9882-44ac-88d2-5419b1449708",
    "deepnote_to_be_reexecuted": false,
    "source_hash": "c843db2d",
    "execution_start": 1640248996461,
    "execution_millis": 18,
    "deepnote_cell_type": "code"
   },
   "outputs": [
    {
     "name": "stdout",
     "text": "Features: ((2, 1), (2, 1), (0, 1), (1, 2), (1, 0), (1, 0), (0, 0), (2, 2), (2, 0), (1, 2), (2, 2), (0, 2), (0, 1), (1, 2))\n",
     "output_type": "stream",
     "data": {}
    }
   ],
   "execution_count": 21
  },
  {
   "cell_type": "code",
   "source": "#Create a Classifier\nmodel=MultinomialNB()\n\n# Train the model using the training sets\nmodel.fit(features,play_encoded)",
   "metadata": {
    "tags": [],
    "cell_id": "00004-ffc7f795-eb7d-4dd0-9283-228c89ae576b",
    "deepnote_to_be_reexecuted": false,
    "source_hash": "c27ef7ff",
    "execution_start": 1640248999015,
    "execution_millis": 42,
    "deepnote_output_heights": [
     21.1875
    ],
    "deepnote_cell_type": "code"
   },
   "outputs": [
    {
     "output_type": "execute_result",
     "execution_count": 22,
     "data": {
      "text/plain": "MultinomialNB()"
     },
     "metadata": {}
    }
   ],
   "execution_count": 22
  },
  {
   "cell_type": "code",
   "source": "#Predict Output\npredicted= model.predict([[0,2]]) # 0:Overcast, 2:Mild\n\nprint(\"Predicted Value:\", predicted)",
   "metadata": {
    "tags": [],
    "cell_id": "00005-d64533d4-3a9e-42c1-911a-2714e4246f5d",
    "deepnote_to_be_reexecuted": false,
    "source_hash": "3f743b96",
    "execution_start": 1640248312098,
    "execution_millis": 24,
    "deepnote_cell_type": "code"
   },
   "outputs": [
    {
     "name": "stdout",
     "text": "Predicted Value: [1]\n",
     "output_type": "stream",
     "data": {}
    }
   ],
   "execution_count": 12
  },
  {
   "cell_type": "code",
   "source": "predicted= model.predict([[0,1]]) # 0:Overcast, 1:Hot\nprint(\"Predicted Value:\", predicted)",
   "metadata": {
    "tags": [],
    "cell_id": "00006-c50b3e10-7252-46e9-ac7e-43015c51e45c",
    "deepnote_to_be_reexecuted": false,
    "source_hash": "cb6de183",
    "execution_start": 1640248423154,
    "execution_millis": 4,
    "deepnote_cell_type": "code"
   },
   "outputs": [
    {
     "name": "stdout",
     "text": "Predicted Value: [1]\n",
     "output_type": "stream",
     "data": {}
    }
   ],
   "execution_count": 13
  },
  {
   "cell_type": "code",
   "source": "predicted= model.predict([[2,2]]) # 2:Sunny, 2:Mild\nprint(\"Predicted Value:\", predicted)",
   "metadata": {
    "tags": [],
    "cell_id": "00007-8875ed60-a2b3-4604-99a5-a6dfdd6fca0d",
    "deepnote_to_be_reexecuted": false,
    "source_hash": "e413b66f",
    "execution_start": 1640250242393,
    "execution_millis": 9,
    "deepnote_cell_type": "code"
   },
   "outputs": [
    {
     "name": "stdout",
     "text": "Predicted Value: [1]\n",
     "output_type": "stream",
     "data": {}
    }
   ],
   "execution_count": 44
  },
  {
   "cell_type": "markdown",
   "source": "#2_NB_Classifier_Iris   GaussianNB",
   "metadata": {
    "tags": [],
    "is_collapsed": false,
    "cell_id": "00009-888b4b59-f8ae-41b3-988d-fabdf8a19a4a",
    "deepnote_cell_type": "text-cell-h3"
   }
  },
  {
   "cell_type": "code",
   "source": "#Import scikit-learn dataset library\nimport numpy as np\nfrom sklearn import datasets\nfrom sklearn.naive_bayes import GaussianNB\n\n#Load dataset\niris = datasets.load_iris()\n\n",
   "metadata": {
    "tags": [],
    "cell_id": "00010-6d52d62a-9ec3-4c40-983f-f79952dcb537",
    "deepnote_to_be_reexecuted": false,
    "source_hash": "fb7dd4f",
    "execution_start": 1640250597222,
    "execution_millis": 1,
    "deepnote_cell_type": "code"
   },
   "outputs": [],
   "execution_count": 48
  },
  {
   "cell_type": "code",
   "source": "# print the names of the 13 features\nprint(\"Features: \", iris.feature_names)\n\n# print the label type of wine(class_0, class_1, class_2)\nprint(\"Labels: \", iris.target_names)\n\n# print data(feature)shape\nprint(\"\\nData shape: \",iris.data.shape)\n\n#print data(target)shape\nprint(\"\\nTraget shape: \",iris.target.shape)\n\n#print(\"\\nData: \",iris.data)\n#print(\"\\nTarget: \",iris.target)\nprint(\"\\nData type: \",type(iris.data))\n\nnewdata = iris.data[50:,:]\nnewtarget = iris.target[50:]\n\n# print data(feature)shape\nprint(\"\\nNew Data shape: \",newdata.shape)\n\n#print data(target)shape\nprint(\"\\nNew Traget shape: \",newtarget.shape)",
   "metadata": {
    "tags": [],
    "cell_id": "00011-25dfe1b0-7207-4320-8580-b8857992d733",
    "deepnote_to_be_reexecuted": false,
    "source_hash": "5f434c20",
    "execution_start": 1640250917359,
    "execution_millis": 5,
    "deepnote_cell_type": "code"
   },
   "outputs": [
    {
     "name": "stdout",
     "text": "Features:  ['sepal length (cm)', 'sepal width (cm)', 'petal length (cm)', 'petal width (cm)']\nLabels:  ['setosa' 'versicolor' 'virginica']\n\nData shape:  (150, 4)\n\nTraget shape:  (150,)\n\nData type:  <class 'numpy.ndarray'>\n\nNew Data shape:  (100, 4)\n\nNew Traget shape:  (100,)\n",
     "output_type": "stream",
     "data": {}
    }
   ],
   "execution_count": 51
  },
  {
   "cell_type": "markdown",
   "source": "<a style='text-decoration:none;line-height:16px;display:flex;color:#5B5B62;padding:10px;justify-content:end;' href='https://deepnote.com?utm_source=created-in-deepnote-cell&projectId=a44cab79-508d-4bfc-9679-af4d4af7e346' target=\"_blank\">\n<img alt='Created in deepnote.com' style='display:inline;max-height:16px;margin:0px;margin-right:7.5px;' src='data:image/svg+xml;base64,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' > </img>\nCreated in <span style='font-weight:600;margin-left:4px;'>Deepnote</span></a>",
   "metadata": {
    "tags": [],
    "created_in_deepnote_cell": true,
    "deepnote_cell_type": "markdown"
   }
  }
 ],
 "nbformat": 4,
 "nbformat_minor": 2,
 "metadata": {
  "orig_nbformat": 2,
  "deepnote": {
   "is_reactive": false
  },
  "deepnote_notebook_id": "c34a9fc3-73c2-45d5-8afc-67533d477351",
  "deepnote_execution_queue": []
 }
}