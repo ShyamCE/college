{
 "cells": [
  {
   "cell_type": "code",
   "metadata": {
    "tags": [],
    "cell_id": "00000-e3d9cf9d-3e40-424e-86c3-819e7ec4f635",
    "deepnote_to_be_reexecuted": false,
    "source_hash": "a1dfa1df",
    "execution_start": 1640855017128,
    "execution_millis": 4,
    "deepnote_cell_type": "code"
   },
   "source": "# Import Numpy & PyTorch\nimport numpy as np\nimport torch\nfrom numpy.core.fromnumeric import mean",
   "execution_count": 30,
   "outputs": []
  },
  {
   "cell_type": "code",
   "source": "#Input (temp, rainfall, humidity)\ninputs = np.array([\n            [73,67,43],\n            [91,88,64],\n            [87,134,58],\n            [102,43,37],\n            [69,96,70]\n        ],dtype='float32')",
   "metadata": {
    "tags": [],
    "cell_id": "00001-a4f04598-83d9-4d7d-aea1-156c6d1d0a77",
    "deepnote_to_be_reexecuted": false,
    "source_hash": "98b0df9c",
    "execution_start": 1640855017136,
    "execution_millis": 5,
    "deepnote_cell_type": "code"
   },
   "outputs": [],
   "execution_count": 31
  },
  {
   "cell_type": "code",
   "source": "targets = np.array([\n            [56],\n            [81],\n            [119],\n            [22],\n            [103]\n        ],dtype='float32')",
   "metadata": {
    "tags": [],
    "cell_id": "00002-72addbc3-11bc-45a0-ba7d-75cc8043fb4e",
    "deepnote_to_be_reexecuted": false,
    "source_hash": "afa0b49c",
    "execution_start": 1640855017145,
    "execution_millis": 3,
    "deepnote_cell_type": "code"
   },
   "outputs": [],
   "execution_count": 32
  },
  {
   "cell_type": "code",
   "source": "inputs = torch.from_numpy(inputs)\ntargets = torch.from_numpy(targets)\n",
   "metadata": {
    "tags": [],
    "cell_id": "00003-5cc10225-fbf0-4764-aa9d-bc860ca8c059",
    "deepnote_to_be_reexecuted": false,
    "source_hash": "de32dbb",
    "execution_start": 1640855017156,
    "execution_millis": 5,
    "deepnote_cell_type": "code"
   },
   "outputs": [],
   "execution_count": 33
  },
  {
   "cell_type": "code",
   "source": "w = torch.randn(1,3, requires_grad=True)\nb = torch.randn(1, requires_grad=True)\nprint(w,'\\n',b)",
   "metadata": {
    "tags": [],
    "cell_id": "00004-0afe4a0f-fefc-4035-a71f-3c07813df867",
    "deepnote_to_be_reexecuted": false,
    "source_hash": "b95ecc8",
    "execution_start": 1640855017166,
    "execution_millis": 8,
    "deepnote_cell_type": "code"
   },
   "outputs": [
    {
     "name": "stdout",
     "text": "tensor([[-1.0727, -1.1578,  1.2446]], requires_grad=True) \n tensor([0.3334], requires_grad=True)\n",
     "output_type": "stream",
     "data": {}
    }
   ],
   "execution_count": 34
  },
  {
   "cell_type": "code",
   "source": "def model(x):\n    return torch.mm(x,w.t(),out=None) + b",
   "metadata": {
    "tags": [],
    "cell_id": "00005-aec1e68b-f75d-4fea-b5d3-5bafd9ab049e",
    "deepnote_to_be_reexecuted": false,
    "source_hash": "3fa7cf94",
    "execution_start": 1640855017208,
    "execution_millis": 1,
    "deepnote_cell_type": "code"
   },
   "outputs": [],
   "execution_count": 35
  },
  {
   "cell_type": "code",
   "source": "pred = model(inputs)\nprint(pred)\nprint(targets)",
   "metadata": {
    "tags": [],
    "cell_id": "00006-fe83b49c-d81b-4836-9e57-536d10105502",
    "deepnote_to_be_reexecuted": false,
    "source_hash": "2773a4cb",
    "execution_start": 1640855017209,
    "execution_millis": 8,
    "deepnote_cell_type": "code"
   },
   "outputs": [
    {
     "name": "stdout",
     "text": "tensor([[-102.0294],\n        [-119.5159],\n        [-175.9516],\n        [-112.8173],\n        [ -97.7119]], grad_fn=<AddBackward0>)\ntensor([[ 56.],\n        [ 81.],\n        [119.],\n        [ 22.],\n        [103.]])\n",
     "output_type": "stream",
     "data": {}
    }
   ],
   "execution_count": 36
  },
  {
   "cell_type": "code",
   "source": "def MSE(P, T) :\n    diff = i = sum = 0\n    n = len(T)\n    for j in range(0,n) :\n        sum += (T[j] - P[j]) * (T[j] - P[j])\n    mean = sum/n\n    return mean\n\nresult = MSE(pred, targets)\nprint(result) ",
   "metadata": {
    "tags": [],
    "cell_id": "00007-c5593eca-4f25-4dab-9400-8a2eaca09012",
    "deepnote_to_be_reexecuted": false,
    "source_hash": "1456eaca",
    "execution_start": 1640855017211,
    "execution_millis": 7,
    "deepnote_cell_type": "code"
   },
   "outputs": [
    {
     "name": "stdout",
     "text": "tensor([42127.4609], grad_fn=<DivBackward0>)\n",
     "output_type": "stream",
     "data": {}
    }
   ],
   "execution_count": 37
  },
  {
   "cell_type": "code",
   "source": "result.backward()\nprint(w.grad)\nprint(b.grad)",
   "metadata": {
    "tags": [],
    "cell_id": "00008-e0f29be6-2751-4f40-8c27-f2552a6bc362",
    "deepnote_to_be_reexecuted": false,
    "source_hash": "46604fdd",
    "execution_start": 1640855017225,
    "execution_millis": 7,
    "deepnote_output_heights": [
     424.125
    ],
    "deepnote_cell_type": "code"
   },
   "outputs": [
    {
     "name": "stdout",
     "text": "tensor([[-33217.7461, -37128.9492, -22309.4180]])\ntensor([-395.6104])\n",
     "output_type": "stream",
     "data": {}
    }
   ],
   "execution_count": 38
  },
  {
   "cell_type": "code",
   "source": "",
   "metadata": {
    "tags": [],
    "cell_id": "00009-78d296cc-337e-4d8b-af2b-59fb6917b721",
    "deepnote_cell_type": "code"
   },
   "outputs": [],
   "execution_count": null
  },
  {
   "cell_type": "markdown",
   "source": "<a style='text-decoration:none;line-height:16px;display:flex;color:#5B5B62;padding:10px;justify-content:end;' href='https://deepnote.com?utm_source=created-in-deepnote-cell&projectId=a44cab79-508d-4bfc-9679-af4d4af7e346' target=\"_blank\">\n<img alt='Created in deepnote.com' style='display:inline;max-height:16px;margin:0px;margin-right:7.5px;' src='data:image/svg+xml;base64,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' > </img>\nCreated in <span style='font-weight:600;margin-left:4px;'>Deepnote</span></a>",
   "metadata": {
    "tags": [],
    "created_in_deepnote_cell": true,
    "deepnote_cell_type": "markdown"
   }
  }
 ],
 "nbformat": 4,
 "nbformat_minor": 2,
 "metadata": {
  "orig_nbformat": 2,
  "deepnote": {
   "is_reactive": false
  },
  "deepnote_notebook_id": "1691ef40-1fbb-4d38-9118-e32611ec5644",
  "deepnote_execution_queue": []
 }
}