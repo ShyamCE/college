{
 "cells": [
  {
   "cell_type": "code",
   "metadata": {
    "tags": [],
    "cell_id": "00000-7b6fd60d-3cec-462c-97bc-5b4d3294adf5",
    "deepnote_to_be_reexecuted": false,
    "source_hash": "32f6b94d",
    "execution_start": 1640193587889,
    "execution_millis": 6,
    "deepnote_cell_type": "code"
   },
   "source": "#Autokey \n#playfair\n# https://dev.to/karanmunjani/encryption-using-playfair-cipher-in-python-24l4   ",
   "outputs": [],
   "execution_count": null
  },
  {
   "cell_type": "code",
   "metadata": {
    "tags": [],
    "cell_id": "00001-b6b6d5d3-db5a-401a-a4ee-297d19f85d79",
    "deepnote_to_be_reexecuted": false,
    "source_hash": "9434a1e6",
    "execution_start": 1640193587952,
    "execution_millis": 14034,
    "deepnote_cell_type": "code"
   },
   "source": "def split (plainText):\n    # append X if Two letters are being repeated\n    for s in range(0,len(plainText)+1,2):\n        if s<len(plainText)-1:\n            if plainText[s]==plainText[s+1]:\n                plainText=plainText[:s+1]+'x'+plainText[s+1:]\n\n    # append X if the total letters are odd, to make plaintext even\n    if len(plainText)%2 != 0:\n        plainText = plainText[:]+'x'\n\n    return plainText\n\nstr1 = input(\"Enter playfair : \")\n\nstr2 = input(\"Enter plain string : \")\nstr_split = split(str2)\nprint(str_split)\n\ndef search (value, matrix) :\n    flag = 0\n    for i in range(5) :\n        for j in range(5) :\n            if matrix[i][j] == value  :\n                flag = 1\n                return flag \n    return flag\n\nmatrix = [ [0 for i in range (5)] for j in range(5) ]\nf = 0\nidx = 0\nasc = 0\nfor i in range(5) :\n    for j in range(5) :\n        if f < len(str1) :\n\n            flag = search(str1[idx],matrix)\n            if flag != 1 :\n                print(i,j)\n                matrix[i][j] = str1[idx]                \n                idx = idx + 1            \n            print(f)\n        else :\n\n            c = chr(asc + 97)\n            print(c)\n            srch = search (c,matrix) \n            print(srch)\n            if srch != 1 :\n                print(i,j)\n                matrix[i][j] =  chr(asc + 97)\n            asc = asc + 1\n        \n        f = f + 1\n        \n\n        \nprint(matrix)\n",
   "outputs": [
    {
     "name": "stdout",
     "text": "shyamx\n0 0\n0\n0 1\n1\n0 2\n2\n0 3\n3\n4\n5\n6\n7\n8\n9\n10\na\n1\nb\n0\n2 2\nc\n0\n2 3\nd\n0\n2 4\ne\n0\n3 0\nf\n0\n3 1\ng\n0\n3 2\nh\n0\n3 3\ni\n0\n3 4\nj\n0\n4 0\nk\n0\n4 1\nl\n1\nm\n0\n4 3\nn\n0\n4 4\n[['p', 'l', 'a', 'y', 0], [0, 0, 0, 0, 0], [0, 0, 'b', 'c', 'd'], ['e', 'f', 'g', 'h', 'i'], ['j', 'k', 0, 'm', 'n']]\n",
     "output_type": "stream",
     "data": {}
    }
   ],
   "execution_count": null
  },
  {
   "cell_type": "markdown",
   "source": "<a style='text-decoration:none;line-height:16px;display:flex;color:#5B5B62;padding:10px;justify-content:end;' href='https://deepnote.com?utm_source=created-in-deepnote-cell&projectId=a44cab79-508d-4bfc-9679-af4d4af7e346' target=\"_blank\">\n<img alt='Created in deepnote.com' style='display:inline;max-height:16px;margin:0px;margin-right:7.5px;' src='data:image/svg+xml;base64,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' > </img>\nCreated in <span style='font-weight:600;margin-left:4px;'>Deepnote</span></a>",
   "metadata": {
    "tags": [],
    "created_in_deepnote_cell": true,
    "deepnote_cell_type": "markdown"
   }
  }
 ],
 "nbformat": 4,
 "nbformat_minor": 2,
 "metadata": {
  "orig_nbformat": 2,
  "deepnote": {
   "is_reactive": false
  },
  "deepnote_notebook_id": "1dda13d0-ef58-49fc-80c6-cfd4f712ee96",
  "deepnote_execution_queue": []
 }
}