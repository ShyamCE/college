{
 "cells": [
  {
   "cell_type": "code",
   "execution_count": null,
   "id": "94cb6254-53f4-4a3b-a104-413305df64f5",
   "metadata": {},
   "outputs": [],
   "source": [
    "#Additive Cipher"
   ]
  },
  {
   "cell_type": "code",
   "execution_count": 62,
   "id": "6c74b6bc-c571-4abc-8376-bf9b15b86b79",
   "metadata": {},
   "outputs": [
    {
     "name": "stdin",
     "output_type": "stream",
     "text": [
      "Please enter the string :  acdf\n",
      "Please enter the key (1-26) :  2\n"
     ]
    },
    {
     "name": "stdout",
     "output_type": "stream",
     "text": [
      "Encryption :  cefh\n",
      "Decryption :  acdf\n",
      "CryptoAnalysis : \n",
      "for key  1  :  bdeg\n",
      "for key  2  :  acdf\n",
      "for key  3  :  zbce\n",
      "for key  4  :  yabd\n",
      "for key  5  :  xzac\n",
      "for key  6  :  wyzb\n",
      "for key  7  :  vxya\n",
      "for key  8  :  uwxz\n",
      "for key  9  :  tvwy\n",
      "for key  10  :  suvx\n",
      "for key  11  :  rtuw\n",
      "for key  12  :  qstv\n",
      "for key  13  :  prsu\n",
      "for key  14  :  oqrt\n",
      "for key  15  :  npqs\n",
      "for key  16  :  mopr\n",
      "for key  17  :  lnoq\n",
      "for key  18  :  kmnp\n",
      "for key  19  :  jlmo\n",
      "for key  20  :  ikln\n",
      "for key  21  :  hjkm\n",
      "for key  22  :  gijl\n",
      "for key  23  :  fhik\n",
      "for key  24  :  eghj\n",
      "for key  25  :  dfgi\n",
      "for key  26  :  cefh\n"
     ]
    }
   ],
   "source": [
    "def encryption(str1, key) :\n",
    "    enc = []\n",
    "    for i in range(len(str1)) :\n",
    "        enc.append(chr(((ord(str1[i]) - 97  + key) % 26) + 97))\n",
    "    return \"\".join(enc)\n",
    "def decryption(enc, key) :\n",
    "    dec = []\n",
    "    for i in range(len(enc)) :\n",
    "        dec.append(chr(((ord(enc[i]) - 97  - key) % 26) + 97))\n",
    "    return \"\".join(dec)\n",
    "def cryptoAnalysis(enc) :\n",
    "    print(\"CryptoAnalysis : \")\n",
    "    for i in range(1,27) :\n",
    "        print(\"for key \",i, \" : \", decryption(enc, i))\n",
    "\n",
    "str1 = input('Please enter the string : ')\n",
    "key = int(input('Please enter the key (1-26) : '))\n",
    "\n",
    "enc = encryption(str1, key)\n",
    "print( \"Encryption : \",enc)\n",
    "dec = decryption(enc, key)\n",
    "print(\"Decryption : \",dec)\n",
    "cryptoAnalysis(enc)"
   ]
  },
  {
   "cell_type": "code",
   "execution_count": 4,
   "id": "0a76ceae-02e8-4167-9223-9d4f0c527469",
   "metadata": {},
   "outputs": [
    {
     "name": "stdin",
     "output_type": "stream",
     "text": [
      "Enter String :  shyam\n"
     ]
    },
    {
     "name": "stdout",
     "output_type": "stream",
     "text": [
      "Encryption :  vmslg\n",
      "Decryption :  shyam\n"
     ]
    }
   ],
   "source": [
    "import random\n",
    "def encryption2(str2, book2) :\n",
    "    enc = []\n",
    "    for i in range(len(str2)) :\n",
    "       enc.append(book2[ord(str2[i]) - 97])\n",
    "    return \"\".join(enc)\n",
    "def decryption2(enc, book2) :\n",
    "    dec = []\n",
    "    for i in range(len(enc)) :\n",
    "        j = 0\n",
    "        while True :\n",
    "            if enc[i] == book2[j] :\n",
    "                break\n",
    "            j = j + 1\n",
    "        dec.append(chr(j + 97))\n",
    "    return \"\".join(dec)\n",
    "\n",
    "str2 = input('Enter String : ')\n",
    "\n",
    "book = dict.fromkeys(range(26))\n",
    "for i in range(0,26) :\n",
    "    book[i] = chr(i + 97)\n",
    "list1 = list(book.values())\n",
    "random.shuffle(list1)\n",
    "book2 = dict(zip(book, list1))\n",
    "\n",
    "#Key and Values !\n",
    "#print( \"Dictionary : \",book2)\n",
    "\n",
    "enc = encryption2(str2,book2)\n",
    "print(\"Encryption : \",enc)\n",
    "dec = decryption2(enc, book2)\n",
    "print(\"Decryption : \",dec)\n"
   ]
  },
  {
   "cell_type": "code",
   "execution_count": null,
   "id": "ce91d003-b096-44d9-847f-31385e5450b0",
   "metadata": {},
   "outputs": [],
   "source": []
  }
 ],
 "metadata": {
  "kernelspec": {
   "display_name": "Python 3 (ipykernel)",
   "language": "python",
   "name": "python3"
  },
  "language_info": {
   "codemirror_mode": {
    "name": "ipython",
    "version": 3
   },
   "file_extension": ".py",
   "mimetype": "text/x-python",
   "name": "python",
   "nbconvert_exporter": "python",
   "pygments_lexer": "ipython3",
   "version": "3.9.7"
  }
 },
 "nbformat": 4,
 "nbformat_minor": 5
}
