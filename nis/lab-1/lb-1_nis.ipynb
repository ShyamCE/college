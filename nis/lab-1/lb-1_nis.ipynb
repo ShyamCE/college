{
 "cells": [
  {
   "cell_type": "code",
   "metadata": {
    "cell_id": "00000-296a1d13-f8eb-45eb-9a2b-8b3ef2832f90",
    "deepnote_cell_type": "code"
   },
   "source": "#Additive Cipher",
   "execution_count": null,
   "outputs": []
  },
  {
   "cell_type": "code",
   "metadata": {
    "cell_id": "00001-c731854b-deff-4a4a-95e6-9482723d8c45",
    "deepnote_cell_type": "code"
   },
   "source": "def encryption(str1, key) :\n    enc = []\n    for i in range(len(str1)) :\n        enc.append(chr(((ord(str1[i]) - 97  + key) % 26) + 97))\n    return \"\".join(enc)\ndef decryption(enc, key) :\n    dec = []\n    for i in range(len(enc)) :\n        dec.append(chr(((ord(enc[i]) - 97  - key) % 26) + 97))\n    return \"\".join(dec)\ndef cryptoAnalysis(enc) :\n    print(\"CryptoAnalysis : \")\n    for i in range(1,27) :\n        print(\"for key \",i, \" : \", decryption(enc, i))\n\nstr1 = input('Please enter the string : ')\nkey = int(input('Please enter the key (1-26) : '))\n\nenc = encryption(str1, key)\nprint( \"Encryption : \",enc)\ndec = decryption(enc, key)\nprint(\"Decryption : \",dec)\ncryptoAnalysis(enc)",
   "execution_count": null,
   "outputs": [
    {
     "name": "stdin",
     "output_type": "stream",
     "text": "Please enter the string :  acdf\nPlease enter the key (1-26) :  2\n"
    },
    {
     "name": "stdout",
     "output_type": "stream",
     "text": "Encryption :  cefh\nDecryption :  acdf\nCryptoAnalysis : \nfor key  1  :  bdeg\nfor key  2  :  acdf\nfor key  3  :  zbce\nfor key  4  :  yabd\nfor key  5  :  xzac\nfor key  6  :  wyzb\nfor key  7  :  vxya\nfor key  8  :  uwxz\nfor key  9  :  tvwy\nfor key  10  :  suvx\nfor key  11  :  rtuw\nfor key  12  :  qstv\nfor key  13  :  prsu\nfor key  14  :  oqrt\nfor key  15  :  npqs\nfor key  16  :  mopr\nfor key  17  :  lnoq\nfor key  18  :  kmnp\nfor key  19  :  jlmo\nfor key  20  :  ikln\nfor key  21  :  hjkm\nfor key  22  :  gijl\nfor key  23  :  fhik\nfor key  24  :  eghj\nfor key  25  :  dfgi\nfor key  26  :  cefh\n"
    }
   ]
  },
  {
   "cell_type": "code",
   "metadata": {
    "cell_id": "00002-260aaeaf-5aa0-4170-b90b-062afc832763",
    "deepnote_cell_type": "code"
   },
   "source": "import random\ndef encryption2(str2, book2) :\n    enc = []\n    for i in range(len(str2)) :\n       enc.append(book2[ord(str2[i]) - 97])\n    return \"\".join(enc)\ndef decryption2(enc, book2) :\n    dec = []\n    for i in range(len(enc)) :\n        j = 0\n        while True :\n            if enc[i] == book2[j] :\n                break\n            j = j + 1\n        dec.append(chr(j + 97))\n    return \"\".join(dec)\n\nstr2 = input('Enter String : ')\n\nbook = dict.fromkeys(range(26))\nfor i in range(0,26) :\n    book[i] = chr(i + 97)\nlist1 = list(book.values())\nrandom.shuffle(list1)\nbook2 = dict(zip(book, list1))\n\n#Key and Values !\n#print( \"Dictionary : \",book2)\n\nenc = encryption2(str2,book2)\nprint(\"Encryption : \",enc)\ndec = decryption2(enc, book2)\nprint(\"Decryption : \",dec)\n",
   "execution_count": null,
   "outputs": [
    {
     "name": "stdin",
     "output_type": "stream",
     "text": "Enter String :  shyam\n"
    },
    {
     "name": "stdout",
     "output_type": "stream",
     "text": "Encryption :  vmslg\nDecryption :  shyam\n"
    }
   ]
  },
  {
   "cell_type": "code",
   "metadata": {
    "cell_id": "00003-5f6ab6a9-100b-4324-840f-21b22b7f12e2",
    "deepnote_cell_type": "code"
   },
   "source": "",
   "execution_count": null,
   "outputs": []
  },
  {
   "cell_type": "markdown",
   "source": "<a style='text-decoration:none;line-height:16px;display:flex;color:#5B5B62;padding:10px;justify-content:end;' href='https://deepnote.com?utm_source=created-in-deepnote-cell&projectId=a44cab79-508d-4bfc-9679-af4d4af7e346' target=\"_blank\">\n<img alt='Created in deepnote.com' style='display:inline;max-height:16px;margin:0px;margin-right:7.5px;' src='data:image/svg+xml;base64,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' > </img>\nCreated in <span style='font-weight:600;margin-left:4px;'>Deepnote</span></a>",
   "metadata": {
    "tags": [],
    "created_in_deepnote_cell": true,
    "deepnote_cell_type": "markdown"
   }
  }
 ],
 "nbformat": 4,
 "nbformat_minor": 5,
 "metadata": {
  "kernelspec": {
   "display_name": "Python 3 (ipykernel)",
   "language": "python",
   "name": "python3"
  },
  "language_info": {
   "codemirror_mode": {
    "name": "ipython",
    "version": 3
   },
   "file_extension": ".py",
   "mimetype": "text/x-python",
   "name": "python",
   "nbconvert_exporter": "python",
   "pygments_lexer": "ipython3",
   "version": "3.9.7"
  },
  "deepnote_notebook_id": "7f582722-0c98-420a-a4e0-9911cacb8692",
  "deepnote": {},
  "deepnote_execution_queue": []
 }
}