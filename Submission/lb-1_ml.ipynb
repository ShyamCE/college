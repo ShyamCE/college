{
 "cells": [
  {
   "cell_type": "code",
   "metadata": {
    "id": "oKpO5JiRY585",
    "executionInfo": {
     "status": "ok",
     "timestamp": 1639401924782,
     "user_tz": -330,
     "elapsed": 1639,
     "user": {
      "displayName": "CE081_SHYAM_ MENDAPARA",
      "photoUrl": "https://lh3.googleusercontent.com/a-/AOh14GgwdtMX9lVzoGgvZkksK6auf234t6SEhu0qL3sa=s64",
      "userId": "13014725355808877342"
     }
    },
    "cell_id": "00000-969b9e24-6536-4bfe-b22f-2ca82fd03d8b",
    "deepnote_cell_type": "code"
   },
   "source": "import numpy as np\nimport random",
   "outputs": [],
   "execution_count": 2
  },
  {
   "cell_type": "code",
   "metadata": {
    "colab": {
     "base_uri": "https://localhost:8080/"
    },
    "id": "eCGRA_Y7bxQA",
    "executionInfo": {
     "status": "ok",
     "timestamp": 1639402593601,
     "user_tz": -330,
     "elapsed": 420,
     "user": {
      "displayName": "CE081_SHYAM_ MENDAPARA",
      "photoUrl": "https://lh3.googleusercontent.com/a-/AOh14GgwdtMX9lVzoGgvZkksK6auf234t6SEhu0qL3sa=s64",
      "userId": "13014725355808877342"
     }
    },
    "outputId": "3cc81520-74ed-4c6e-970a-4f831a822058",
    "cell_id": "00001-a4745d7f-37ec-49b3-81db-bf189af3fbb8",
    "deepnote_cell_type": "code"
   },
   "source": "# Create a Numpy array of size 4 x 5.\n\nalist = [0] * 4\n\n#Randomly initialize the array.\nfor i in range(4):\n  alist[i] = []\n  for j in range(5):\n    alist[i].append(np.random.randint(0,20))\n    \nnarray = np.array(alist)\n\nprint(alist)",
   "outputs": [
    {
     "output_type": "stream",
     "name": "stdout",
     "text": "[[14, 13, 18, 9, 4], [14, 9, 5, 9, 6], [14, 10, 6, 8, 13], [4, 4, 3, 3, 7]]\n"
    }
   ],
   "execution_count": 11
  },
  {
   "cell_type": "code",
   "metadata": {
    "colab": {
     "base_uri": "https://localhost:8080/"
    },
    "id": "dxCzSsxYdpZ3",
    "executionInfo": {
     "status": "ok",
     "timestamp": 1639402248156,
     "user_tz": -330,
     "elapsed": 412,
     "user": {
      "displayName": "CE081_SHYAM_ MENDAPARA",
      "photoUrl": "https://lh3.googleusercontent.com/a-/AOh14GgwdtMX9lVzoGgvZkksK6auf234t6SEhu0qL3sa=s64",
      "userId": "13014725355808877342"
     }
    },
    "outputId": "c908a2f0-de49-442b-df26-44c856a8a8c6",
    "cell_id": "00002-550cfda1-b23e-4054-bec6-af884478b2c4",
    "deepnote_cell_type": "code"
   },
   "source": "#Get the Transpose of the Matrix that you created. \n\nprint(narray.T)",
   "outputs": [
    {
     "output_type": "stream",
     "name": "stdout",
     "text": "[[ 2 13 15 15]\n [ 1  0 19  4]\n [14  1  9  8]\n [18  5  9  2]\n [ 2 17  7 13]]\n"
    }
   ],
   "execution_count": 9
  },
  {
   "cell_type": "code",
   "metadata": {
    "colab": {
     "base_uri": "https://localhost:8080/"
    },
    "id": "mNph-EBAeMWu",
    "executionInfo": {
     "status": "ok",
     "timestamp": 1639404397481,
     "user_tz": -330,
     "elapsed": 400,
     "user": {
      "displayName": "CE081_SHYAM_ MENDAPARA",
      "photoUrl": "https://lh3.googleusercontent.com/a-/AOh14GgwdtMX9lVzoGgvZkksK6auf234t6SEhu0qL3sa=s64",
      "userId": "13014725355808877342"
     }
    },
    "outputId": "277ba8f4-60f2-4c43-9b59-58ae781ac59f",
    "cell_id": "00003-298c174e-d21a-4629-be59-c145cf6af378",
    "deepnote_cell_type": "code"
   },
   "source": "#Create a square matrix and find its determinant.\n\n#matrix3 = np.matrix(np.random.rand(4,4))\nmatrix3 = np.matrix(narray.T[0:4])\nprint(matrix3)\nprint(\"\\nDeterminant is : \" , np.linalg.det(matrix3))",
   "outputs": [
    {
     "output_type": "stream",
     "name": "stdout",
     "text": "[[14 14 14  4]\n [13  9 10  4]\n [18  5  6  3]\n [ 9  9  8  3]]\n\nDeterminant is :  225.9999999999999\n"
    }
   ],
   "execution_count": 35
  },
  {
   "cell_type": "code",
   "metadata": {
    "colab": {
     "base_uri": "https://localhost:8080/"
    },
    "id": "0tOgx1ZAff0-",
    "executionInfo": {
     "status": "ok",
     "timestamp": 1639404318084,
     "user_tz": -330,
     "elapsed": 385,
     "user": {
      "displayName": "CE081_SHYAM_ MENDAPARA",
      "photoUrl": "https://lh3.googleusercontent.com/a-/AOh14GgwdtMX9lVzoGgvZkksK6auf234t6SEhu0qL3sa=s64",
      "userId": "13014725355808877342"
     }
    },
    "outputId": "0e9b5c00-f1af-408c-f03b-cff1e3682e25",
    "cell_id": "00004-a6594d0b-7731-4b77-9d54-ea37b4eaab4f",
    "deepnote_cell_type": "code"
   },
   "source": "# Create another matrix of size 5 x 4 and randomly initialize it.\n# Perform Matrix multiplication.\n# Perform element wise matrix multiplication.\n#Matrix1 = np.matrix(np.random.rand(5,4))\nMatrix1 = np.matrix(narray.T)\nprint(\"Matrix 1 : \\n\",Matrix1)\n#Matrix2 = np.matrix(np.random.rand(4,5))\nMatrix2 = np.matrix(narray[0:4])\nprint(\"\\nMatrix 2 : \\n\", Matrix2)\n\nres = Matrix1 * Matrix2\nprint(\"\\nMatrix Multiplication :\\n\", res)\n\nmul = np.multiply(Matrix1, Matrix1)\nprint(\"\\nElement wise Multiplication Mat1 : \\n\" , mul)",
   "outputs": [
    {
     "output_type": "stream",
     "name": "stdout",
     "text": "Matrix 1 : \n [[14 14 14  4]\n [13  9 10  4]\n [18  5  6  3]\n [ 9  9  8  3]\n [ 4  6 13  7]]\n\nMatrix 2 : \n [[14 13 18  9  4]\n [14  9  5  9  6]\n [14 10  6  8 13]\n [ 4  4  3  3  7]]\n\nMatrix Multiplication :\n [[604 464 418 376 350]\n [464 366 351 290 264]\n [418 351 394 264 201]\n [376 290 264 235 215]\n [350 264 201 215 270]]\n\nElement wise Multiplication Mat1 : \n [[196 196 196  16]\n [169  81 100  16]\n [324  25  36   9]\n [ 81  81  64   9]\n [ 16  36 169  49]]\n"
    }
   ],
   "execution_count": 34
  },
  {
   "cell_type": "code",
   "metadata": {
    "colab": {
     "base_uri": "https://localhost:8080/"
    },
    "id": "ATAZ1ojIjMnu",
    "executionInfo": {
     "status": "ok",
     "timestamp": 1639404424919,
     "user_tz": -330,
     "elapsed": 399,
     "user": {
      "displayName": "CE081_SHYAM_ MENDAPARA",
      "photoUrl": "https://lh3.googleusercontent.com/a-/AOh14GgwdtMX9lVzoGgvZkksK6auf234t6SEhu0qL3sa=s64",
      "userId": "13014725355808877342"
     }
    },
    "outputId": "7e252c62-e3c7-47ab-f461-aebfa50c97c5",
    "cell_id": "00005-a41879d5-c41a-4690-9ce6-09b9859cd420",
    "deepnote_cell_type": "code"
   },
   "source": "#Find mean, median of the numpy array created.\nmean = np.mean(narray)\nprint(\"Mean of narray : \\n\",mean)\n\nmedian = np.median(narray)\nprint(\"\\nMedian of narray : \\n\",median)",
   "outputs": [
    {
     "output_type": "stream",
     "name": "stdout",
     "text": "Mean of narray : \n 8.65\n\nMedian of narray : \n 8.5\n"
    }
   ],
   "execution_count": 37
  },
  {
   "cell_type": "code",
   "metadata": {
    "colab": {
     "base_uri": "https://localhost:8080/"
    },
    "id": "YBKHx428kuwe",
    "executionInfo": {
     "status": "ok",
     "timestamp": 1639404421418,
     "user_tz": -330,
     "elapsed": 371,
     "user": {
      "displayName": "CE081_SHYAM_ MENDAPARA",
      "photoUrl": "https://lh3.googleusercontent.com/a-/AOh14GgwdtMX9lVzoGgvZkksK6auf234t6SEhu0qL3sa=s64",
      "userId": "13014725355808877342"
     }
    },
    "outputId": "1cfe3107-adca-409d-b44c-99ad621944c4",
    "cell_id": "00006-65ae2127-60a8-4405-a63f-6d0b0e5a6ceb",
    "deepnote_cell_type": "code"
   },
   "source": "#Obtain each row in the second column of the first array.\n\nprint(narray)\nprint(\"\\nRows of 2nd Column \",narray[0:,1])",
   "outputs": [
    {
     "output_type": "stream",
     "name": "stdout",
     "text": "[[14 13 18  9  4]\n [14  9  5  9  6]\n [14 10  6  8 13]\n [ 4  4  3  3  7]]\n\nRows of 2nd Column  [13  9 10  4]\n"
    }
   ],
   "execution_count": 36
  },
  {
   "cell_type": "code",
   "metadata": {
    "colab": {
     "base_uri": "https://localhost:8080/"
    },
    "id": "_Jn0Q3dX3QOF",
    "executionInfo": {
     "status": "ok",
     "timestamp": 1639404481304,
     "user_tz": -330,
     "elapsed": 397,
     "user": {
      "displayName": "CE081_SHYAM_ MENDAPARA",
      "photoUrl": "https://lh3.googleusercontent.com/a-/AOh14GgwdtMX9lVzoGgvZkksK6auf234t6SEhu0qL3sa=s64",
      "userId": "13014725355808877342"
     }
    },
    "outputId": "a1eef5bf-ba86-4ccf-c502-187d210f10c7",
    "cell_id": "00007-2686b63e-7737-41da-8fbd-7bd0d98d1e9b",
    "deepnote_cell_type": "code"
   },
   "source": "#Convert Numeric entries(columns) of Iris.csv to Mean Centered Version\nimport pandas as pd\n\ndata=pd.read_csv('https://raw.githubusercontent.com/shyamPatel99/machine_learning/main/csv_file/Iris.csv')\n\narr1=np.array(data.head(5))\n#print(\"\\narr1 : \",arr1);\n\nmat4=np.array([arr1[:,0],arr1[:,1],arr1[:,2],arr1[:,3],arr1[:,4]])\n#print(\"\\nmat4 : \",mat4)\n\n#column axis = 0 , row axis = 1\nres=mat4-np.mean(mat4,axis=0)\n\nprint(res)",
   "outputs": [
    {
     "output_type": "stream",
     "name": "stdout",
     "text": "[[-1.2399999999999998 -0.2999999999999998 0.52 1.3200000000000003 1.96]\n [2.86 2.6000000000000005 2.22 1.92 1.96]\n [1.2600000000000002 0.7000000000000002 0.7200000000000002\n  0.4200000000000004 0.56]\n [-0.8399999999999999 -0.8999999999999999 -1.18 -1.1799999999999997\n  -1.6400000000000001]\n [-2.0399999999999996 -2.0999999999999996 -2.28 -2.4799999999999995 -2.84]]\n"
    }
   ],
   "execution_count": 38
  },
  {
   "cell_type": "markdown",
   "source": "<a style='text-decoration:none;line-height:16px;display:flex;color:#5B5B62;padding:10px;justify-content:end;' href='https://deepnote.com?utm_source=created-in-deepnote-cell&projectId=a44cab79-508d-4bfc-9679-af4d4af7e346' target=\"_blank\">\n<img alt='Created in deepnote.com' style='display:inline;max-height:16px;margin:0px;margin-right:7.5px;' src='data:image/svg+xml;base64,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' > </img>\nCreated in <span style='font-weight:600;margin-left:4px;'>Deepnote</span></a>",
   "metadata": {
    "tags": [],
    "created_in_deepnote_cell": true,
    "deepnote_cell_type": "markdown"
   }
  }
 ],
 "nbformat": 4,
 "nbformat_minor": 0,
 "metadata": {
  "colab": {
   "name": "lb-1_ml.ipynb",
   "provenance": [],
   "collapsed_sections": [],
   "authorship_tag": "ABX9TyMM5ueVkqkyP5FrNxWUD3hl"
  },
  "kernelspec": {
   "name": "python3",
   "display_name": "Python 3"
  },
  "language_info": {
   "name": "python"
  },
  "deepnote_notebook_id": "aea7f568-9851-40a5-882b-f830407fb7fd",
  "deepnote": {},
  "deepnote_execution_queue": []
 }
}