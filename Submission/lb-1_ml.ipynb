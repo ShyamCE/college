{
 "cells": [
  {
   "cell_type": "code",
   "metadata": {
    "id": "oKpO5JiRY585",
    "executionInfo": {
     "status": "ok",
     "timestamp": 1639401924782,
     "user_tz": -330,
     "elapsed": 1639,
     "user": {
      "displayName": "CE081_SHYAM_ MENDAPARA",
      "photoUrl": "https://lh3.googleusercontent.com/a-/AOh14GgwdtMX9lVzoGgvZkksK6auf234t6SEhu0qL3sa=s64",
      "userId": "13014725355808877342"
     }
    },
    "cell_id": "00000-969b9e24-6536-4bfe-b22f-2ca82fd03d8b",
    "deepnote_to_be_reexecuted": false,
    "source_hash": "ffa426ac",
    "execution_start": 1639662354240,
    "deepnote_cell_type": "code"
   },
   "source": "import numpy as np\nimport random",
   "outputs": [],
   "execution_count": 1
  },
  {
   "cell_type": "code",
   "metadata": {
    "colab": {
     "base_uri": "https://localhost:8080/"
    },
    "id": "eCGRA_Y7bxQA",
    "executionInfo": {
     "status": "ok",
     "timestamp": 1639402593601,
     "user_tz": -330,
     "elapsed": 420,
     "user": {
      "displayName": "CE081_SHYAM_ MENDAPARA",
      "photoUrl": "https://lh3.googleusercontent.com/a-/AOh14GgwdtMX9lVzoGgvZkksK6auf234t6SEhu0qL3sa=s64",
      "userId": "13014725355808877342"
     }
    },
    "outputId": "3cc81520-74ed-4c6e-970a-4f831a822058",
    "cell_id": "00001-a4745d7f-37ec-49b3-81db-bf189af3fbb8",
    "deepnote_to_be_reexecuted": false,
    "source_hash": "fbe42faa",
    "execution_start": 1639662354242,
    "deepnote_cell_type": "code"
   },
   "source": "# Create a Numpy array of size 4 x 5.\n\nalist = [0] * 4\n\n#Randomly initialize the array.\nfor i in range(4):\n  alist[i] = []\n  for j in range(5):\n    alist[i].append(np.random.randint(0,20))\n    \nnarray = np.array(alist)\n\nprint(alist)",
   "outputs": [
    {
     "name": "stdout",
     "text": "[[19, 19, 12, 12, 16], [7, 6, 6, 16, 7], [18, 9, 17, 0, 5], [13, 7, 9, 8, 2]]\n",
     "output_type": "stream",
     "data": {}
    }
   ],
   "execution_count": 2
  },
  {
   "cell_type": "code",
   "metadata": {
    "colab": {
     "base_uri": "https://localhost:8080/"
    },
    "id": "dxCzSsxYdpZ3",
    "executionInfo": {
     "status": "ok",
     "timestamp": 1639402248156,
     "user_tz": -330,
     "elapsed": 412,
     "user": {
      "displayName": "CE081_SHYAM_ MENDAPARA",
      "photoUrl": "https://lh3.googleusercontent.com/a-/AOh14GgwdtMX9lVzoGgvZkksK6auf234t6SEhu0qL3sa=s64",
      "userId": "13014725355808877342"
     }
    },
    "outputId": "c908a2f0-de49-442b-df26-44c856a8a8c6",
    "cell_id": "00002-550cfda1-b23e-4054-bec6-af884478b2c4",
    "deepnote_to_be_reexecuted": false,
    "source_hash": "d0722e9",
    "execution_start": 1639662354250,
    "deepnote_cell_type": "code"
   },
   "source": "#Get the Transpose of the Matrix that you created. \n\nprint(narray.T)",
   "outputs": [
    {
     "name": "stdout",
     "text": "[[19  7 18 13]\n [19  6  9  7]\n [12  6 17  9]\n [12 16  0  8]\n [16  7  5  2]]\n",
     "output_type": "stream",
     "data": {}
    }
   ],
   "execution_count": 3
  },
  {
   "cell_type": "code",
   "metadata": {
    "colab": {
     "base_uri": "https://localhost:8080/"
    },
    "id": "mNph-EBAeMWu",
    "executionInfo": {
     "status": "ok",
     "timestamp": 1639404397481,
     "user_tz": -330,
     "elapsed": 400,
     "user": {
      "displayName": "CE081_SHYAM_ MENDAPARA",
      "photoUrl": "https://lh3.googleusercontent.com/a-/AOh14GgwdtMX9lVzoGgvZkksK6auf234t6SEhu0qL3sa=s64",
      "userId": "13014725355808877342"
     }
    },
    "outputId": "277ba8f4-60f2-4c43-9b59-58ae781ac59f",
    "cell_id": "00003-298c174e-d21a-4629-be59-c145cf6af378",
    "deepnote_to_be_reexecuted": false,
    "source_hash": "e49a7c18",
    "execution_start": 1639662354301,
    "deepnote_cell_type": "code"
   },
   "source": "#Create a square matrix and find its determinant.\n\n#matrix3 = np.matrix(np.random.rand(4,4))\nmatrix3 = np.matrix(narray.T[0:4])\nprint(matrix3)\nprint(\"\\nDeterminant is : \" , np.linalg.det(matrix3))",
   "outputs": [
    {
     "name": "stdout",
     "text": "[[19  7 18 13]\n [19  6  9  7]\n [12  6 17  9]\n [12 16  0  8]]\n\nDeterminant is :  7712.000000000002\n",
     "output_type": "stream",
     "data": {}
    }
   ],
   "execution_count": 4
  },
  {
   "cell_type": "code",
   "metadata": {
    "colab": {
     "base_uri": "https://localhost:8080/"
    },
    "id": "0tOgx1ZAff0-",
    "executionInfo": {
     "status": "ok",
     "timestamp": 1639404318084,
     "user_tz": -330,
     "elapsed": 385,
     "user": {
      "displayName": "CE081_SHYAM_ MENDAPARA",
      "photoUrl": "https://lh3.googleusercontent.com/a-/AOh14GgwdtMX9lVzoGgvZkksK6auf234t6SEhu0qL3sa=s64",
      "userId": "13014725355808877342"
     }
    },
    "outputId": "0e9b5c00-f1af-408c-f03b-cff1e3682e25",
    "cell_id": "00004-a6594d0b-7731-4b77-9d54-ea37b4eaab4f",
    "deepnote_to_be_reexecuted": false,
    "source_hash": "8c50c94b",
    "execution_start": 1639662354302,
    "execution_millis": 3,
    "deepnote_cell_type": "code"
   },
   "source": "# Create another matrix of size 5 x 4 and randomly initialize it.\n# Perform Matrix multiplication.\n# Perform element wise matrix multiplication.\n#Matrix1 = np.matrix(np.random.rand(5,4))\nMatrix1 = np.matrix(narray.T)\nprint(\"Matrix 1 : \\n\",Matrix1)\n#Matrix2 = np.matrix(np.random.rand(4,5))\nMatrix2 = np.matrix(narray[0:4])\nprint(\"\\nMatrix 2 : \\n\", Matrix2)\n\nres = Matrix1 * Matrix2\nprint(\"\\nMatrix Multiplication :\\n\", res)\n\nmul = np.multiply(Matrix1, Matrix1)\nprint(\"\\nElement wise Multiplication Mat1 : \\n\" , mul)",
   "outputs": [
    {
     "name": "stdout",
     "text": "Matrix 1 : \n [[19  7 18 13]\n [19  6  9  7]\n [12  6 17  9]\n [12 16  0  8]\n [16  7  5  2]]\n\nMatrix 2 : \n [[19 19 12 12 16]\n [ 7  6  6 16  7]\n [18  9 17  0  5]\n [13  7  9  8  2]]\n\nMatrix Multiplication :\n [[903 656 693 444 469]\n [656 527 480 380 405]\n [693 480 550 312 337]\n [444 380 312 464 320]\n [469 405 337 320 334]]\n\nElement wise Multiplication Mat1 : \n [[361  49 324 169]\n [361  36  81  49]\n [144  36 289  81]\n [144 256   0  64]\n [256  49  25   4]]\n",
     "output_type": "stream",
     "data": {}
    }
   ],
   "execution_count": 5
  },
  {
   "cell_type": "code",
   "metadata": {
    "colab": {
     "base_uri": "https://localhost:8080/"
    },
    "id": "ATAZ1ojIjMnu",
    "executionInfo": {
     "status": "ok",
     "timestamp": 1639404424919,
     "user_tz": -330,
     "elapsed": 399,
     "user": {
      "displayName": "CE081_SHYAM_ MENDAPARA",
      "photoUrl": "https://lh3.googleusercontent.com/a-/AOh14GgwdtMX9lVzoGgvZkksK6auf234t6SEhu0qL3sa=s64",
      "userId": "13014725355808877342"
     }
    },
    "outputId": "7e252c62-e3c7-47ab-f461-aebfa50c97c5",
    "cell_id": "00005-a41879d5-c41a-4690-9ce6-09b9859cd420",
    "deepnote_to_be_reexecuted": false,
    "source_hash": "aaa1b018",
    "execution_start": 1639662354303,
    "deepnote_cell_type": "code"
   },
   "source": "#Find mean, median of the numpy array created.\nmean = np.mean(narray)\nprint(\"Mean of narray : \\n\",mean)\n\nmedian = np.median(narray)\nprint(\"\\nMedian of narray : \\n\",median)",
   "outputs": [
    {
     "name": "stdout",
     "text": "Mean of narray : \n 10.4\n\nMedian of narray : \n 9.0\n",
     "output_type": "stream",
     "data": {}
    }
   ],
   "execution_count": 6
  },
  {
   "cell_type": "code",
   "metadata": {
    "colab": {
     "base_uri": "https://localhost:8080/"
    },
    "id": "YBKHx428kuwe",
    "executionInfo": {
     "status": "ok",
     "timestamp": 1639404421418,
     "user_tz": -330,
     "elapsed": 371,
     "user": {
      "displayName": "CE081_SHYAM_ MENDAPARA",
      "photoUrl": "https://lh3.googleusercontent.com/a-/AOh14GgwdtMX9lVzoGgvZkksK6auf234t6SEhu0qL3sa=s64",
      "userId": "13014725355808877342"
     }
    },
    "outputId": "1cfe3107-adca-409d-b44c-99ad621944c4",
    "cell_id": "00006-65ae2127-60a8-4405-a63f-6d0b0e5a6ceb",
    "deepnote_to_be_reexecuted": false,
    "source_hash": "89d15c9c",
    "execution_start": 1639662354353,
    "deepnote_cell_type": "code"
   },
   "source": "#Obtain each row in the second column of the first array.\n\nprint(narray)\nprint(\"\\nRows of 2nd Column \",narray[0:,1])",
   "outputs": [
    {
     "name": "stdout",
     "text": "[[19 19 12 12 16]\n [ 7  6  6 16  7]\n [18  9 17  0  5]\n [13  7  9  8  2]]\n\nRows of 2nd Column  [19  6  9  7]\n",
     "output_type": "stream",
     "data": {}
    }
   ],
   "execution_count": 7
  },
  {
   "cell_type": "code",
   "metadata": {
    "colab": {
     "base_uri": "https://localhost:8080/"
    },
    "id": "_Jn0Q3dX3QOF",
    "executionInfo": {
     "status": "ok",
     "timestamp": 1639404481304,
     "user_tz": -330,
     "elapsed": 397,
     "user": {
      "displayName": "CE081_SHYAM_ MENDAPARA",
      "photoUrl": "https://lh3.googleusercontent.com/a-/AOh14GgwdtMX9lVzoGgvZkksK6auf234t6SEhu0qL3sa=s64",
      "userId": "13014725355808877342"
     }
    },
    "outputId": "a1eef5bf-ba86-4ccf-c502-187d210f10c7",
    "cell_id": "00007-2686b63e-7737-41da-8fbd-7bd0d98d1e9b",
    "deepnote_to_be_reexecuted": false,
    "source_hash": "438518a9",
    "execution_start": 1639662354397,
    "execution_millis": 2,
    "deepnote_cell_type": "code"
   },
   "source": "#Convert Numeric entries(columns) of Iris.csv to Mean Centered Version\nimport pandas as pd\n\ndata=pd.read_csv('https://raw.githubusercontent.com/ShyamCE/machine_learning/main/Classroom_files/Lab-1/Iris.csv')\n\narr1=np.array(data.head(5))\n#print(\"\\narr1 : \",arr1);\n\nmat4=np.array([arr1[:,0],arr1[:,1],arr1[:,2],arr1[:,3],arr1[:,4]])\n#print(\"\\nmat4 : \",mat4)\n\n#column axis = 0 , row axis = 1\nres=mat4-np.mean(mat4,axis=0)\n\nprint(res)",
   "outputs": [
    {
     "name": "stdout",
     "text": "[[-1.2399999999999998 -0.2999999999999998 0.52 1.3200000000000003 1.96]\n [2.86 2.6000000000000005 2.22 1.92 1.96]\n [1.2600000000000002 0.7000000000000002 0.7200000000000002\n  0.4200000000000004 0.56]\n [-0.8399999999999999 -0.8999999999999999 -1.18 -1.1799999999999997\n  -1.6400000000000001]\n [-2.0399999999999996 -2.0999999999999996 -2.28 -2.4799999999999995 -2.84]]\n",
     "output_type": "stream",
     "data": {}
    }
   ],
   "execution_count": 8
  },
  {
   "cell_type": "markdown",
   "source": "<a style='text-decoration:none;line-height:16px;display:flex;color:#5B5B62;padding:10px;justify-content:end;' href='https://deepnote.com?utm_source=created-in-deepnote-cell&projectId=a44cab79-508d-4bfc-9679-af4d4af7e346' target=\"_blank\">\n<img alt='Created in deepnote.com' style='display:inline;max-height:16px;margin:0px;margin-right:7.5px;' src='data:image/svg+xml;base64,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' > </img>\nCreated in <span style='font-weight:600;margin-left:4px;'>Deepnote</span></a>",
   "metadata": {
    "tags": [],
    "created_in_deepnote_cell": true,
    "deepnote_cell_type": "markdown"
   }
  }
 ],
 "nbformat": 4,
 "nbformat_minor": 0,
 "metadata": {
  "colab": {
   "name": "lb-1_ml.ipynb",
   "provenance": [],
   "collapsed_sections": [],
   "authorship_tag": "ABX9TyMM5ueVkqkyP5FrNxWUD3hl"
  },
  "kernelspec": {
   "name": "python3",
   "display_name": "Python 3"
  },
  "language_info": {
   "name": "python"
  },
  "deepnote_notebook_id": "aea7f568-9851-40a5-882b-f830407fb7fd",
  "deepnote": {},
  "deepnote_execution_queue": []
 }
}