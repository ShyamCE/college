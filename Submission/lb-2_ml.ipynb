{
 "cells": [
  {
   "cell_type": "code",
   "metadata": {
    "tags": [],
    "cell_id": "00000-6001254c-7546-4c44-8f62-1b4ff393d431",
    "deepnote_to_be_reexecuted": false,
    "source_hash": "e865de7a",
    "execution_start": 1639648271714,
    "execution_millis": 1222,
    "deepnote_cell_type": "code"
   },
   "source": "# Step 1: Import Libraries\n\nimport numpy as np\nimport pandas as pd\nfrom sklearn.preprocessing import MinMaxScaler, StandardScaler\n\n# Step 2: Load Data\n\ndatasets = pd.read_csv(\n    \"https://raw.githubusercontent.com/ShyamCE/machine_learning/main/Classroom_files/Lab-2/Exercise-CarData.csv\"\n)\nprint(\"\\nData :\\n\", datasets)\n# print(\"\\nData statistics\\n\",datasets.describe())\n\n# Step 3: Seprate Input and Output attributes\n\n# All rows, all columns except last\nX = datasets.iloc[:, :-1].values\n\n# Only last column\nY = datasets.iloc[:, -1].values\n\n# print(\"\\n\\nInput : \\n\", X)\n# print(\"\\n\\nOutput: \\n\", Y)\n\nX_new = datasets.iloc[:, 1:3].values\nprint(\"\\n\\nX for transformation : \\n\", X_new)\n",
   "outputs": [
    {
     "name": "stdout",
     "text": "\nData :\n       Unnamed: 0  Price   Age     KM FuelType   HP  MetColor  Automatic    CC  \\\n0              0  13500  23.0  46986   Diesel   90       1.0          0  2000   \n1              1  13750  23.0  72937   Diesel   90       1.0          0  2000   \n2              2  13950  24.0  41711   Diesel   90       NaN          0  2000   \n3              3  14950  26.0  48000   Diesel   90       0.0          0  2000   \n4              4  13750  30.0  38500   Diesel   90       0.0          0  2000   \n...          ...    ...   ...    ...      ...  ...       ...        ...   ...   \n1431        1431   7500   NaN  20544   Petrol   86       1.0          0  1300   \n1432        1432  10845  72.0     ??   Petrol   86       0.0          0  1300   \n1433        1433   8500   NaN  17016   Petrol   86       0.0          0  1300   \n1434        1434   7250  70.0     ??      NaN   86       1.0          0  1300   \n1435        1435   6950  76.0      1   Petrol  110       0.0          0  1600   \n\n      Doors  Weight  \n0     three    1165  \n1         3    1165  \n2         3    1165  \n3         3    1165  \n4         3    1170  \n...     ...     ...  \n1431      3    1025  \n1432      3    1015  \n1433      3    1015  \n1434      3    1015  \n1435      5    1114  \n\n[1436 rows x 11 columns]\n\n\nX for transformation : \n [[13500.    23.]\n [13750.    23.]\n [13950.    24.]\n ...\n [ 8500.    nan]\n [ 7250.    70.]\n [ 6950.    76.]]\n",
     "output_type": "stream",
     "data": {}
    }
   ],
   "execution_count": null
  },
  {
   "cell_type": "code",
   "metadata": {
    "tags": [],
    "cell_id": "00001-ebf19b22-bb1d-42e9-b9df-162d624b1914",
    "deepnote_to_be_reexecuted": false,
    "source_hash": "430809d7",
    "execution_start": 1639646104075,
    "execution_millis": 9,
    "deepnote_cell_type": "code"
   },
   "source": "# Step 4 : Perform scaling on age and salary\n\nscaler = MinMaxScaler()\nX_scaled = scaler.fit_transform(X_new)\nprint(\"\\n\\nScaled X : \\n\", X_scaled)",
   "outputs": [
    {
     "name": "stdout",
     "text": "\n\nScaled X : \n [[0.3250444  0.27848101]\n [0.3339254  0.27848101]\n [0.3410302  0.29113924]\n ...\n [0.14742451        nan]\n [0.10301954 0.87341772]\n [0.09236234 0.94936709]]\n",
     "output_type": "stream",
     "data": {}
    }
   ],
   "execution_count": null
  },
  {
   "cell_type": "markdown",
   "source": "<a style='text-decoration:none;line-height:16px;display:flex;color:#5B5B62;padding:10px;justify-content:end;' href='https://deepnote.com?utm_source=created-in-deepnote-cell&projectId=a44cab79-508d-4bfc-9679-af4d4af7e346' target=\"_blank\">\n<img alt='Created in deepnote.com' style='display:inline;max-height:16px;margin:0px;margin-right:7.5px;' src='data:image/svg+xml;base64,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' > </img>\nCreated in <span style='font-weight:600;margin-left:4px;'>Deepnote</span></a>",
   "metadata": {
    "tags": [],
    "created_in_deepnote_cell": true,
    "deepnote_cell_type": "markdown"
   }
  }
 ],
 "nbformat": 4,
 "nbformat_minor": 2,
 "metadata": {
  "orig_nbformat": 2,
  "deepnote": {
   "is_reactive": false
  },
  "deepnote_notebook_id": "3b7b3a8f-4436-4aac-9766-149a29d4a60c",
  "deepnote_execution_queue": []
 }
}